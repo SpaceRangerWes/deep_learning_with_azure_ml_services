{
 "cells": [
  {
   "cell_type": "code",
   "execution_count": 1,
   "metadata": {},
   "outputs": [
    {
     "name": "stderr",
     "output_type": "stream",
     "text": [
      "Using TensorFlow backend.\n"
     ]
    }
   ],
   "source": [
    "%matplotlib inline\n",
    "\n",
    "import os\n",
    "import pickle\n",
    "import shutil\n",
    "import sys\n",
    "\n",
    "import keras\n",
    "import numpy as np\n",
    "import pandas as pd\n",
    "import tensorflow as tf\n",
    "from azureml.logging import get_azureml_logger\n",
    "\n",
    "import matplotlib.pyplot as plt\n",
    "import seaborn as sns\n",
    "\n",
    "from code.utilities import keras_hlprs, rw_hlprs\n",
    "from azure.storage.blob import BlockBlobService\n",
    "from itertools import chain\n",
    "\n",
    "logger = get_azureml_logger()"
   ]
  },
  {
   "cell_type": "markdown",
   "metadata": {},
   "source": [
    "## Transform the Predicted Label into its Accompanying Tags\n",
    "\n",
    "`get_predicted_tags()` will take an encoded label of reals 0 <= n <= 1, enforce a threshold that results a binary classification, and return its original value.\n",
    "\n",
    "Ex. [0.1, 0.2, 0.0, 0.4, 0.6, 0.3, 0.0, 0.2] => [0, 0, 0, 1, 1, 0, 0, 0] => [primary, partly_cloudy]"
   ]
  },
  {
   "cell_type": "code",
   "execution_count": 2,
   "metadata": {},
   "outputs": [],
   "source": [
    "def get_predicted_tags(predictions, thresholds, encoder):\n",
    "        prediction_labels = []\n",
    "        for prediction in predictions:\n",
    "            labels = [int(value > thresholds[i]) for i, value in enumerate(prediction)]\n",
    "            prediction_labels.append(labels)\n",
    "        tags = [sorted(list(a)) for a in encoder.inverse_transform(np.asarray(prediction_labels))]\n",
    "\n",
    "        return tags"
   ]
  },
  {
   "cell_type": "markdown",
   "metadata": {},
   "source": [
    "## Dataframe of Associated Tags\n",
    "\n",
    "Using the image name (ex. train_1002.jpg) as the index, `create_dataframe()` creates a mapping of the image location with its tags that are sourced from a provided CSV file. The tags are then encoded as a One-Hot array and returned in the column __labels__. "
   ]
  },
  {
   "cell_type": "code",
   "execution_count": 3,
   "metadata": {},
   "outputs": [],
   "source": [
    "def create_dataframe(runtime_params, blob_service):\n",
    "    \n",
    "    label_df = None\n",
    "    val_paths = []\n",
    "    img_path_tups = []\n",
    "\n",
    "    # gather all image file paths as list of strings\n",
    "    if runtime_params['sample_flag'] == 'true':\n",
    "        import glob\n",
    "        val_paths = glob.glob('sample_data/validation-sample-jpg/*.jpg')\n",
    "        label_df = pd.DataFrame.from_csv('sample_data/validation-sample.csv')\n",
    "        img_path_tups = [(img_path.split('/')[2][:-4], img_path) for img_path in val_paths]\n",
    "    else:\n",
    "        val_paths = rw_hlprs.retrieve_paths(runtime_params, blob_service)\n",
    "        blob_service.get_blob_to_path(runtime_params['stor_container'], 'validation.csv', 'temp/validation.csv')\n",
    "\n",
    "        label_df = pd.DataFrame.from_csv('temp/validation.csv', header=0, index_col='image_name')\n",
    "        img_path_tups = [(img_path.split('/')[1][:-4], img_path) for img_path in val_paths]\n",
    "\n",
    "    img_path_df = pd.DataFrame.from_records(img_path_tups, columns=['image_name', 'img_path'])\n",
    "\n",
    "    val_img_df = label_df.join(img_path_df.set_index('image_name'))\n",
    "    val_img_df, encoding_len, encoder = keras_hlprs.one_hot_encode(val_img_df)\n",
    "\n",
    "    return val_img_df, encoding_len, encoder"
   ]
  },
  {
   "cell_type": "code",
   "execution_count": 4,
   "metadata": {},
   "outputs": [],
   "source": [
    "def predict(df, encoding_len, runtime_params, blob_service):\n",
    "    # run the model predictions\n",
    "    generator = keras_hlprs.get_data_generator(df, runtime_params, encoding_len, blob_service)\n",
    "    model = rw_hlprs.load_trained_model(runtime_params, blob_service)\n",
    "    predictions = model.predict_generator(generator=generator, verbose=1, steps=len(df) / runtime_params['batch_size'])\n",
    "\n",
    "    # shape of predictions should be => (# of input images, encoding length)\n",
    "    valid_test_shape = (len(df), encoding_len)\n",
    "    assert predictions.shape == valid_test_shape\n",
    "\n",
    "    return predictions"
   ]
  },
  {
   "cell_type": "code",
   "execution_count": 5,
   "metadata": {},
   "outputs": [
    {
     "name": "stdout",
     "output_type": "stream",
     "text": [
      "27/26 [==============================] - 771s 29s/step\n"
     ]
    }
   ],
   "source": [
    "# example runtime parameters\n",
    "runtime_params = {\n",
    "    'img_resize': (150, 150), \n",
    "    'batch_size': 300, \n",
    "    'data_path': 'validation-jpg/', \n",
    "    'stor_acct_name': '',\n",
    "    'stor_acct_key': '',\n",
    "    'stor_container': '',\n",
    "    'model_pkl_file': 'trained_model.pkl',\n",
    "    'sample_flag': 'false'\n",
    "}\n",
    "# set runtime parameters\n",
    "if len(sys.argv) > 3:\n",
    "    resize = int(sys.argv[1])\n",
    "    runtime_params['img_resize'] = (resize, resize)\n",
    "\n",
    "    runtime_params['batch_size'] = int(sys.argv[2])\n",
    "    runtime_params['data_path'] = str(sys.argv[3])\n",
    "    runtime_params['model_pkl_file'] = str(sys.argv[4])\n",
    "    runtime_params['sample_flag'] = str(sys.argv[5])\n",
    "\n",
    "runtime_params['stor_acct_name'] = os.environ.get(\"ACCOUNT_NAME\")\n",
    "runtime_params['stor_acct_key'] = os.environ.get(\"ACCOUNT_KEY\")\n",
    "runtime_params['stor_container'] = os.environ.get(\"CONTAINER_NAME\")\n",
    "\n",
    "rw_hlprs.create_temp_dir()\n",
    "\n",
    "blob_service = BlockBlobService(account_name=runtime_params['stor_acct_name'], account_key=runtime_params['stor_acct_key'])\n",
    "\n",
    "df, encoding_len, encoder = create_dataframe(runtime_params, blob_service)\n",
    "predictions = predict(df, encoding_len, runtime_params, blob_service)"
   ]
  },
  {
   "cell_type": "code",
   "execution_count": 6,
   "metadata": {},
   "outputs": [],
   "source": [
    "# convert one-hot encodings back to their original tag strings\n",
    "# for now just put all thresholds to 0.3 \n",
    "thresholds = [0.3] * encoding_len\n",
    "predicted_tags = get_predicted_tags(predictions, thresholds, encoder)\n",
    "\n",
    "tags = [sorted(list(a)) for a in encoder.inverse_transform(np.asarray(df['labels'].tolist()))]"
   ]
  },
  {
   "cell_type": "code",
   "execution_count": 7,
   "metadata": {},
   "outputs": [],
   "source": [
    "df['tags'] = tags\n",
    "df['predicted_tags'] = predicted_tags"
   ]
  },
  {
   "cell_type": "code",
   "execution_count": 8,
   "metadata": {},
   "outputs": [
    {
     "data": {
      "text/html": [
       "<div>\n",
       "<style scoped>\n",
       "    .dataframe tbody tr th:only-of-type {\n",
       "        vertical-align: middle;\n",
       "    }\n",
       "\n",
       "    .dataframe tbody tr th {\n",
       "        vertical-align: top;\n",
       "    }\n",
       "\n",
       "    .dataframe thead th {\n",
       "        text-align: right;\n",
       "    }\n",
       "</style>\n",
       "<table border=\"1\" class=\"dataframe\">\n",
       "  <thead>\n",
       "    <tr style=\"text-align: right;\">\n",
       "      <th></th>\n",
       "      <th>tags</th>\n",
       "      <th>img_path</th>\n",
       "      <th>labels</th>\n",
       "      <th>predicted_tags</th>\n",
       "    </tr>\n",
       "    <tr>\n",
       "      <th>image_name</th>\n",
       "      <th></th>\n",
       "      <th></th>\n",
       "      <th></th>\n",
       "      <th></th>\n",
       "    </tr>\n",
       "  </thead>\n",
       "  <tbody>\n",
       "    <tr>\n",
       "      <th>train_14860</th>\n",
       "      <td>[partly_cloudy, primary]</td>\n",
       "      <td>validation-jpg/train_14860.jpg</td>\n",
       "      <td>[0, 0, 0, 0, 0, 0, 0, 0, 0, 0, 0, 1, 1, 0, 0, ...</td>\n",
       "      <td>[clear, primary]</td>\n",
       "    </tr>\n",
       "    <tr>\n",
       "      <th>train_33946</th>\n",
       "      <td>[bare_ground, clear, primary, water]</td>\n",
       "      <td>validation-jpg/train_33946.jpg</td>\n",
       "      <td>[0, 0, 1, 0, 0, 1, 0, 0, 0, 0, 0, 0, 1, 0, 0, ...</td>\n",
       "      <td>[clear, primary]</td>\n",
       "    </tr>\n",
       "    <tr>\n",
       "      <th>train_13216</th>\n",
       "      <td>[clear, primary]</td>\n",
       "      <td>validation-jpg/train_13216.jpg</td>\n",
       "      <td>[0, 0, 0, 0, 0, 1, 0, 0, 0, 0, 0, 0, 1, 0, 0, ...</td>\n",
       "      <td>[clear, primary]</td>\n",
       "    </tr>\n",
       "    <tr>\n",
       "      <th>train_24353</th>\n",
       "      <td>[clear, primary]</td>\n",
       "      <td>validation-jpg/train_24353.jpg</td>\n",
       "      <td>[0, 0, 0, 0, 0, 1, 0, 0, 0, 0, 0, 0, 1, 0, 0, ...</td>\n",
       "      <td>[clear, primary, water]</td>\n",
       "    </tr>\n",
       "    <tr>\n",
       "      <th>train_35826</th>\n",
       "      <td>[cultivation, haze, primary]</td>\n",
       "      <td>validation-jpg/train_35826.jpg</td>\n",
       "      <td>[0, 0, 0, 0, 0, 0, 0, 0, 1, 0, 1, 0, 1, 0, 0, ...</td>\n",
       "      <td>[agriculture, clear, primary]</td>\n",
       "    </tr>\n",
       "  </tbody>\n",
       "</table>\n",
       "</div>"
      ],
      "text/plain": [
       "            ...\n",
       "image_name  ...\n",
       "train_14860 ...\n",
       "train_33946 ...\n",
       "train_13216 ...\n",
       "train_24353 ...\n",
       "train_35826 ...\n",
       "\n",
       "[5 rows x 4 columns]"
      ]
     },
     "execution_count": 8,
     "metadata": {},
     "output_type": "execute_result"
    }
   ],
   "source": [
    "df.head()"
   ]
  },
  {
   "cell_type": "markdown",
   "metadata": {},
   "source": [
    "## Compare the distribution of what was predicted vs. the ground truth\n",
    "\n",
    "There are much more robust ways to go about showing accuracy, but these charts simply illustrate that the resulting model in on the right path. \n",
    "\n",
    "As always there should be a more formal validation path then what your eyes tell you from a colorful chart."
   ]
  },
  {
   "cell_type": "code",
   "execution_count": 9,
   "metadata": {},
   "outputs": [
    {
     "data": {
      "text/plain": [
       "<matplotlib.axes._subplots.AxesSubplot at 0x7fed768084e0>"
      ]
     },
     "execution_count": 9,
     "metadata": {},
     "output_type": "execute_result"
    },
    {
     "data": {
      "image/png": "[encoded data removed]",
      "text/plain": [
       "<Figure size 1152x576 with 1 Axes>"
      ]
     },
     "metadata": {},
     "output_type": "display_data"
    }
   ],
   "source": [
    "pred_tags = pd.Series(list(chain.from_iterable(predicted_tags))).value_counts()\n",
    "fig, ax = plt.subplots(figsize=(16, 8))\n",
    "sns.barplot(x=pred_tags, y=pred_tags.index, orient='h')"
   ]
  },
  {
   "cell_type": "code",
   "execution_count": 10,
   "metadata": {},
   "outputs": [
    {
     "data": {
      "image/png": "[encoded data removed]",
      "text/plain": [
       "<Figure size 1152x576 with 1 Axes>"
      ]
     },
     "metadata": {},
     "output_type": "display_data"
    }
   ],
   "source": [
    "target_tags = pd.Series(list(chain.from_iterable(tags))).value_counts()\n",
    "fig, ax = plt.subplots(figsize=(16, 8))\n",
    "sns.barplot(x=target_tags, y=target_tags.index, orient='h');"
   ]
  },
  {
   "cell_type": "code",
   "execution_count": 11,
   "metadata": {},
   "outputs": [],
   "source": [
    "# cleanup\n",
    "# export_trained_model(model)\n",
    "shutil.rmtree('./temp')"
   ]
  }
 ],
 "metadata": {
  "kernelspec": {
   "display_name": "deep-learning-on-azure-ml-service docker",
   "language": "python",
   "name": "deep-learning-on-azure-ml-service_docker"
  },
  "language_info": {
   "codemirror_mode": {
    "name": "ipython",
    "version": 3
   },
   "file_extension": ".py",
   "mimetype": "text/x-python",
   "name": "python",
   "nbconvert_exporter": "python",
   "pygments_lexer": "ipython3",
   "version": "3.6.3"
  }
 },
 "nbformat": 4,
 "nbformat_minor": 2
}
